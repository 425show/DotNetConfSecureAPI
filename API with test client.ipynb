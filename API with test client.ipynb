{
 "cells": [
  {
   "cell_type": "markdown",
   "metadata": {},
   "source": [
    "### Prerequisites\n",
    "\n",
    "To run this .NET Interactive run book, you need a create an AppRegistration in Azure AD with the following settings\n",
    "- Authentication -> Platform: Mobile and Desktop\n",
    "- Authentication -> Platform -> RedirectUris: `http://localhost`\n",
    "- Authentication -> Supported Account Types: Multi tenant\n",
    "- Press **Save**\n",
    "- API Permissions -> Add a Permission -> Delegated Permisions -> MS Graph: `Application.ReadWrite.All`"
   ]
  },
  {
   "cell_type": "markdown",
   "metadata": {},
   "source": [
    "We start by importing the necessary NuGet packages to be used throughout this runbook"
   ]
  },
  {
   "cell_type": "code",
   "execution_count": null,
   "metadata": {
    "dotnet_interactive": {
     "language": "csharp"
    }
   },
   "outputs": [],
   "source": [
    "#r \"nuget:Microsoft.Graph\"\n",
    "#r \"nuget:Azure.Identity\""
   ]
  },
  {
   "cell_type": "markdown",
   "metadata": {},
   "source": [
    "### Create the MSAL Client\n",
    "Ensure that you add the appropriate `usings` so that we can interact with Graph and AAD.\n",
    "\n",
    "Instantiate the MSAL Client to authenticate against AAD and get the right Graph Permissions.\n",
    "The MSAL Client requires the 2 following properties:\n",
    "- `ClientID` (From the Overview tab of your AAD App Registration)\n",
    "- `TenantID` (From the Overview tab. Can be the tenant id [Guid] or the tenant name)"
   ]
  },
  {
   "cell_type": "code",
   "execution_count": null,
   "metadata": {
    "dotnet_interactive": {
     "language": "csharp"
    }
   },
   "outputs": [],
   "source": [
    "using Azure.Identity;\n",
    "using System.Threading.Tasks;\n",
    "\n",
    "public static InteractiveBrowserCredential GetCredentials()\n",
    "{\n",
    "    var clientId = \"f59bc665-04ce-4191-a3b2-99f65a1d740e\";\n",
    "    var tenantId = \"common\";\n",
    "    \n",
    "    var options = new InteractiveBrowserCredentialOptions\n",
    "    {\n",
    "        TenantId = tenantId,\n",
    "        ClientId = clientId,\n",
    "        AuthorityHost = AzureAuthorityHosts.AzurePublicCloud,\n",
    "        RedirectUri = new Uri(\"http://localhost\"),\n",
    "    };\n",
    "\n",
    "    return new InteractiveBrowserCredential(options);\n",
    "}"
   ]
  },
  {
   "cell_type": "markdown",
   "metadata": {},
   "source": [
    "### Create an API App Registration in Azure AD\n",
    "\n",
    "Right now the scope is hardcoded to `access_as_user`. Feel free to change this to meet your needs"
   ]
  },
  {
   "cell_type": "code",
   "execution_count": null,
   "metadata": {
    "dotnet_interactive": {
     "language": "csharp"
    }
   },
   "outputs": [],
   "source": [
    "using Microsoft.Graph;\n",
    "\n",
    "var apiAppName = \".NET Conf Demo API\";\n",
    "var scopeName = \"access_as_user\";\n",
    "\n",
    "var graphClient = new GraphServiceClient(GetCredentials(), new string[] {\"Application.ReadWrite.All\"});\n",
    "var apiApp = GetApiApplication(apiAppName);\n",
    "\n",
    "var apiAppRegistration = await graphClient.Applications\n",
    "                            .Request()\n",
    "                            .AddAsync(apiApp);\n",
    "                            \n",
    "UpdateAppAPISettings(ref apiAppRegistration);\n",
    "\n",
    "await graphClient.Applications[apiAppRegistration.Id]\n",
    "                    .Request()\n",
    "                    .UpdateAsync(apiAppRegistration);  \n",
    "\n",
    "var tenantId = await GetTenantId();\n",
    "\n",
    "Console.WriteLine($\"Client Id: {apiAppRegistration.AppId}\");\n",
    "Console.WriteLine($\"Domain: {apiAppRegistration.PublisherDomain}\");\n",
    "Console.WriteLine($\"Tenant Id: {tenantId}\");\n",
    "Console.WriteLine($\"API URI: {apiAppRegistration.IdentifierUris.First()}/{scopeName}\");\n",
    "\n",
    "Application GetApiApplication(string displayName) => new Application\n",
    "{\n",
    "    DisplayName = displayName\n",
    "};\n",
    "\n",
    "async Task<string> GetTenantId()\n",
    "{\n",
    "    var organization = await graphClient.Organization\n",
    "                                .Request()\n",
    "                                .GetAsync();\n",
    "\n",
    "    return organization.FirstOrDefault().Id;\n",
    "}\n",
    "\n",
    "void UpdateAppAPISettings(ref Application app)\n",
    "{\n",
    "    app.SignInAudience = \"AzureADMyOrg\";\n",
    "    app.IdentifierUris = new List<String>()\n",
    "    {\n",
    "        $\"api://{app.AppId}\"\n",
    "    };\n",
    "    \n",
    "    app.Api = new ApiApplication\n",
    "    {\n",
    "        AcceptMappedClaims = null,\n",
    "        KnownClientApplications = new List<Guid>()\n",
    "        {\n",
    "        },\n",
    "        RequestedAccessTokenVersion = 2,\n",
    "        Oauth2PermissionScopes = new List<PermissionScope>()\n",
    "        {\n",
    "            new PermissionScope\n",
    "            {\n",
    "                Id = Guid.NewGuid(),\n",
    "                AdminConsentDescription = \"access the app as a user\",\n",
    "                AdminConsentDisplayName = \"access the app as a user\",\n",
    "                IsEnabled = true,\n",
    "                Type = \"User\",\n",
    "                UserConsentDescription = \"access the app as a user\",\n",
    "                UserConsentDisplayName = \"access the app as a user\",\n",
    "                Value = scopeName\n",
    "            }\n",
    "        },\n",
    "        PreAuthorizedApplications = new List<PreAuthorizedApplication>()\n",
    "        {\n",
    "        }\n",
    "    };\n",
    "}"
   ]
  },
  {
   "cell_type": "markdown",
   "metadata": {},
   "source": [
    "### Create the Service Principal\n",
    "Next we need to create a Service Principal that maps to the App Registration. \n",
    "This registers the app with the current Tenant and make the App Registration available to \n",
    "the tenant's apps and users to authenticate against and/or acquire tokens."
   ]
  },
  {
   "cell_type": "code",
   "execution_count": null,
   "metadata": {
    "dotnet_interactive": {
     "language": "csharp"
    }
   },
   "outputs": [],
   "source": [
    "using Microsoft.Graph;\n",
    "\n",
    "var servicePrincipal = await graphClient.ServicePrincipals\n",
    "                            .Request()\n",
    "                            .AddAsync(CreateServicePrincipal(apiAppRegistration.AppId));\n",
    "\n",
    "private static ServicePrincipal CreateServicePrincipal(string appId) => new ServicePrincipal\n",
    "{\n",
    "    AppId = appId\n",
    "};"
   ]
  },
  {
   "cell_type": "markdown",
   "metadata": {},
   "source": [
    "### Web App App Registration\n",
    "Create a client App Registration for a server-side **web app** (.NET, Node, Java etc).\n",
    "\n",
    "Users signing in to the client app, will be able to request an access token for the API ().\n",
    "You'll need to set the following two properties before running this script:\n",
    "- `clientAppName` -> the name for your App Registration\n",
    "- `redirectUri` -> the URI where your app expects the returned tokens. For .NET web apps, \n",
    "it's usually `https://localhost:5001/signin-oidc`"
   ]
  },
  {
   "cell_type": "code",
   "execution_count": null,
   "metadata": {
    "dotnet_interactive": {
     "language": "csharp"
    }
   },
   "outputs": [],
   "source": [
    "using Microsoft.Graph;\n",
    "\n",
    "var clientAppName = \"Thunder Client App\";\n",
    "var redirectUri = \"https://www.thunderclient.io/oauth/callback\";\n",
    "\n",
    "var clientApp = GetClientApplication(\n",
    "    apiAppRegistration,\n",
    "    clientAppName,\n",
    "    redirectUri);\n",
    "\n",
    "var clientAppRegistration = await graphClient.Applications\n",
    "                                .Request()\n",
    "                                .AddAsync(clientApp);\n",
    "\n",
    "Console.WriteLine($\"Client Id: {clientAppRegistration.AppId}\");\n",
    "Console.WriteLine($\"Auth Endpoint: https://login.microsoftonline.com/{tenantId}/oauth2/v2.0/authorize\");\n",
    "Console.WriteLine($\"Token Endpoint https://login.microsoftonline.com/{tenantId}/oauth2/v2.0/token\");\n",
    "\n",
    "private static Application GetClientApplication(Application app,string displayName, string redirectUri) \n",
    "    => new Application\n",
    "{\n",
    "    DisplayName = displayName,\n",
    "    Web = new WebApplication\n",
    "    {\n",
    "        RedirectUris = new List<string>(){redirectUri}\n",
    "    },\n",
    "    RequiredResourceAccess = new List<RequiredResourceAccess>()\n",
    "    {\n",
    "        new RequiredResourceAccess\n",
    "        {\n",
    "            ResourceAppId = app.AppId,\n",
    "            ResourceAccess = new List<ResourceAccess>()\n",
    "            {\n",
    "                new ResourceAccess\n",
    "                {\n",
    "                    Id = app.Api.Oauth2PermissionScopes.FirstOrDefault().Id,\n",
    "                    Type = \"Scope\"\n",
    "                }\n",
    "            }\n",
    "        },\n",
    "        new RequiredResourceAccess\n",
    "        {\n",
    "            // OIDC - Graph scope (user.read)\n",
    "            ResourceAppId = \"00000003-0000-0000-c000-000000000000\",\n",
    "            ResourceAccess = new List<ResourceAccess>()\n",
    "            {\n",
    "                new ResourceAccess\n",
    "                {     \n",
    "                    Id = new Guid(\"e1fe6dd8ba314d6189e788639da4683d\"),\n",
    "                    Type = \"Scope\"\n",
    "                }\n",
    "            }\n",
    "        }\n",
    "    } \n",
    "};"
   ]
  },
  {
   "cell_type": "markdown",
   "metadata": {},
   "source": [
    "### Add a Client Secret"
   ]
  },
  {
   "cell_type": "code",
   "execution_count": null,
   "metadata": {
    "dotnet_interactive": {
     "language": "csharp"
    }
   },
   "outputs": [],
   "source": [
    "using Microsoft.Graph;\n",
    "\n",
    "var passwordCredential = new PasswordCredential\n",
    "{\n",
    "\tDisplayName = \"delete me\"\n",
    "};\n",
    "\n",
    "var credential = await graphClient.Applications[$\"{clientAppRegistration.Id}\"]\n",
    "\t.AddPassword(passwordCredential)\n",
    "\t.Request()\n",
    "\t.PostAsync();\n",
    "\n",
    "Console.WriteLine($\"Client Secret: {credential.SecretText}\");"
   ]
  }
 ],
 "metadata": {
  "kernelspec": {
   "display_name": ".NET (C#)",
   "language": "C#",
   "name": ".net-csharp"
  },
  "language_info": {
   "file_extension": ".cs",
   "mimetype": "text/x-csharp",
   "name": "C#",
   "pygments_lexer": "csharp",
   "version": "9.0"
  }
 },
 "nbformat": 4,
 "nbformat_minor": 2
}
